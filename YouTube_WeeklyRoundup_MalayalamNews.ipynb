{
  "nbformat": 4,
  "nbformat_minor": 0,
  "metadata": {
    "colab": {
      "provenance": [],
      "collapsed_sections": [],
      "authorship_tag": "ABX9TyOCFsPBbcdgTlExUNU3tou/",
      "include_colab_link": true
    },
    "kernelspec": {
      "name": "python3",
      "display_name": "Python 3"
    },
    "language_info": {
      "name": "python"
    }
  },
  "cells": [
    {
      "cell_type": "markdown",
      "metadata": {
        "id": "view-in-github",
        "colab_type": "text"
      },
      "source": [
        "<a href=\"https://colab.research.google.com/github/ishwarvenugopal/youtube-weeklyRoundup/blob/main/YouTube_WeeklyRoundup_MalayalamNews.ipynb\" target=\"_parent\"><img src=\"https://colab.research.google.com/assets/colab-badge.svg\" alt=\"Open In Colab\"/></a>"
      ]
    },
    {
      "cell_type": "code",
      "source": [
        "import requests\n",
        "import json\n",
        "import re\n",
        "import datetime\n",
        "from json import JSONDecoder\n",
        "import string"
      ],
      "metadata": {
        "id": "PzALeXio8urV"
      },
      "execution_count": 1,
      "outputs": []
    },
    {
      "cell_type": "code",
      "source": [
        "no_of_days = 7"
      ],
      "metadata": {
        "id": "UvSueiDFH1TB"
      },
      "execution_count": 2,
      "outputs": []
    },
    {
      "cell_type": "markdown",
      "source": [
        "https://stackoverflow.com/questions/54235528/how-to-find-json-object-in-text-with-python"
      ],
      "metadata": {
        "id": "H7n_BKoeCBaH"
      }
    },
    {
      "cell_type": "code",
      "source": [
        "def extract_json_objects(text, decoder=JSONDecoder()):\n",
        "    \"\"\"Find JSON objects in text, and yield the decoded JSON data\n",
        "\n",
        "    Does not attempt to look for JSON arrays, text, or other JSON types outside\n",
        "    of a parent JSON object.\n",
        "\n",
        "    \"\"\"\n",
        "    pos = 0\n",
        "    while True:\n",
        "        match = text.find('{', pos)\n",
        "        if match == -1:\n",
        "            break\n",
        "        try:\n",
        "            result, index = decoder.raw_decode(text[match:])\n",
        "            yield result\n",
        "            pos = match + index\n",
        "        except ValueError:\n",
        "            pos = match + 1"
      ],
      "metadata": {
        "id": "1K0OKYvEAfYV"
      },
      "execution_count": 3,
      "outputs": []
    },
    {
      "cell_type": "code",
      "source": [
        "today = datetime.datetime.now().date()\n",
        "req_dates = []\n",
        "for i in range(no_of_days):\n",
        "  req_date = today - datetime.timedelta(days = i)\n",
        "  month = req_date.strftime(\"%B\")\n",
        "  day = req_date.day\n",
        "  year = req_date.year\n",
        "  req_string = '{} {}, {}'.format(month,day,year)\n",
        "  req_dates.append(req_string)"
      ],
      "metadata": {
        "id": "nAc0M8zb_sjd"
      },
      "execution_count": 4,
      "outputs": []
    },
    {
      "cell_type": "code",
      "source": [
        "req_dates.reverse()"
      ],
      "metadata": {
        "id": "bbFD4i9PKpfh"
      },
      "execution_count": 5,
      "outputs": []
    },
    {
      "cell_type": "code",
      "source": [
        "req_dates"
      ],
      "metadata": {
        "colab": {
          "base_uri": "https://localhost:8080/"
        },
        "id": "nrfCXgCFKs0w",
        "outputId": "7e60ff02-984f-4504-bf26-008bf410a20f"
      },
      "execution_count": 6,
      "outputs": [
        {
          "output_type": "execute_result",
          "data": {
            "text/plain": [
              "['October 24, 2022',\n",
              " 'October 25, 2022',\n",
              " 'October 26, 2022',\n",
              " 'October 27, 2022',\n",
              " 'October 28, 2022',\n",
              " 'October 29, 2022',\n",
              " 'October 30, 2022']"
            ]
          },
          "metadata": {},
          "execution_count": 6
        }
      ]
    },
    {
      "cell_type": "code",
      "source": [
        "def get_youtubeLink(video):\n",
        "  videoTitle = video['videoRenderer'][\"title\"][\"runs\"][0][\"text\"]\n",
        "  videoId = video['videoRenderer']['videoId']\n",
        "  url = \"{} https://www.youtube.com/watch?v={}\".format(videoTitle,videoId)\n",
        "  return url, videoId, videoTitle"
      ],
      "metadata": {
        "id": "iE-cxmC9N3rH"
      },
      "execution_count": 7,
      "outputs": []
    },
    {
      "cell_type": "code",
      "source": [
        "req_VideoIds = []\n",
        "for req_date in req_dates:\n",
        "  date_noPunct = ''.join([x for x in req_date if x not in string.punctuation and x!=' '])\n",
        "  search_keyword='malayalam news headlines \"{}\"'.format(req_date)\n",
        "  search_url = \"https://www.youtube.com/results?search_query=\" + search_keyword\n",
        "  response = requests.get(search_url)\n",
        "  contents = response.content.decode('utf-8')\n",
        "  for result in extract_json_objects(contents):\n",
        "    if 'responseContext' in result.keys():\n",
        "      req_dict = result\n",
        "  key = list(req_dict.keys())[2]\n",
        "  req_list = req_dict[key]['twoColumnSearchResultsRenderer']['primaryContents']['sectionListRenderer']['contents'][0]\n",
        "  videoList = req_list['itemSectionRenderer']['contents']\n",
        "  req_videos = {\n",
        "    '10PMNews': [],\n",
        "    '9PMNews': [],\n",
        "    '630PMNews': [],\n",
        "    '6PMNews': [],\n",
        "    '130PMNews': [],\n",
        "    '1PMNews': [],\n",
        "    '10AMNews': [],\n",
        "    '9AMNews': [],\n",
        "  }\n",
        "  for video in videoList:\n",
        "    present = req_date in json.dumps(video)\n",
        "    if present:\n",
        "      if 'videoRenderer' in video.keys():\n",
        "        url, videoId, videoTitle = get_youtubeLink(video)\n",
        "        if 'News' in videoTitle:\n",
        "          titleSplit = videoTitle.split('|')\n",
        "          titleDate = ''.join([x for x in titleSplit[-1] if x not in string.punctuation and x!=' '])\n",
        "          titleNewsTime = ''.join([x for x in titleSplit[-2] if x not in string.punctuation and x!=' '])\n",
        "          if date_noPunct in titleDate:\n",
        "            if titleNewsTime in req_videos.keys():\n",
        "              req_videos[titleNewsTime].append([url, videoId])\n",
        "  for key, value in req_videos.items():\n",
        "    if len(value)>0:\n",
        "      print(value[0][0])\n",
        "      req_VideoIds.append(value[0][1])\n",
        "      break"
      ],
      "metadata": {
        "colab": {
          "base_uri": "https://localhost:8080/"
        },
        "id": "7MRiQa2yQHEo",
        "outputId": "34fbf99c-5e7b-4b98-f582-aa50f577f1d8"
      },
      "execution_count": 8,
      "outputs": [
        {
          "output_type": "stream",
          "name": "stdout",
          "text": [
            "പത്തു മണി വാർത്ത | 10 PM News | October 24, 2022 https://www.youtube.com/watch?v=5hQsdSAOpIU\n",
            "പത്തു മണി വാർത്ത | 10 P M News | October 25, 2022 https://www.youtube.com/watch?v=eE4PtDRLhOI\n",
            "പത്തു മണി വാർത്ത | 10 P M News | October 26, 2022 https://www.youtube.com/watch?v=-OGMg_hfDnY\n",
            "പത്തു മണി വാർത്ത | 10 P M News | October 27, 2022 https://www.youtube.com/watch?v=uQwLe3eXWys\n",
            "പത്തു മണി വാർത്ത | 10 P M News | October 28, 2022 https://www.youtube.com/watch?v=IX4U7p0BNW8\n",
            "പത്തു മണി വാർത്ത | 10 P M News | October 29, 2022 https://www.youtube.com/watch?v=TQI6N1VzTuk\n",
            "ഒൻപതു മണി വാർത്ത | 9 AM News | October 30, 2022 https://www.youtube.com/watch?v=7to1eX4S_4U\n"
          ]
        }
      ]
    },
    {
      "cell_type": "code",
      "source": [
        "playlist_link = 'http://www.youtube.com/watch_videos?video_ids='\n",
        "for videoID in req_VideoIds:\n",
        "  playlist_link = playlist_link + '{},'.format(videoID)\n",
        "print(playlist_link)"
      ],
      "metadata": {
        "colab": {
          "base_uri": "https://localhost:8080/"
        },
        "id": "nZMnQ80B838p",
        "outputId": "8fe58490-fbf0-4fec-a180-d09a456c3778"
      },
      "execution_count": 9,
      "outputs": [
        {
          "output_type": "stream",
          "name": "stdout",
          "text": [
            "http://www.youtube.com/watch_videos?video_ids=5hQsdSAOpIU,eE4PtDRLhOI,-OGMg_hfDnY,uQwLe3eXWys,IX4U7p0BNW8,TQI6N1VzTuk,7to1eX4S_4U,\n"
          ]
        }
      ]
    },
    {
      "cell_type": "code",
      "source": [],
      "metadata": {
        "id": "TNoSa1j5KMJ9"
      },
      "execution_count": 9,
      "outputs": []
    }
  ]
}